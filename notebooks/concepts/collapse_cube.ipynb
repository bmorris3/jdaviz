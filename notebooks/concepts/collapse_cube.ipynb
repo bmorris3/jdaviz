{
 "cells": [
  {
   "cell_type": "markdown",
   "id": "a0236ab8-3d8e-4fc8-b754-0ee6ba3e2473",
   "metadata": {},
   "source": [
    "This notebook requires: \n",
    "\n",
    "* astropy.nddata updates from [astropy/astropy#14175](https://github.com/astropy/astropy/pull/14175)\n",
    "* glue-astronomy updates from [glue-viz/glue-astronomy#81](https://github.com/glue-viz/glue-astronomy/pull/81)"
   ]
  },
  {
   "cell_type": "code",
   "execution_count": null,
   "id": "bb5cd3d7-d195-4928-8399-664435b03bf6",
   "metadata": {},
   "outputs": [],
   "source": [
    "import warnings\n",
    "import tempfile\n",
    "\n",
    "import numpy as np\n",
    "from specutils import Spectrum1D\n",
    "from astroquery.mast import Observations\n",
    "from astropy.nddata import NDDataArray\n",
    "from astropy.nddata.nduncertainty import StdDevUncertainty\n",
    "from regions import PixCoord, CirclePixelRegion\n",
    "\n",
    "from jdaviz import Cubeviz\n",
    "\n",
    "cubeviz = Cubeviz()\n",
    "\n",
    "data_dir = tempfile.gettempdir()\n",
    "\n",
    "fn = \"jw02732-o004_t004_miri_ch1-shortmediumlong_s3d.fits\"\n",
    "result = Observations.download_file(f\"mast:JWST/product/{fn}\", local_path=f'{data_dir}/{fn}')\n",
    "\n",
    "with warnings.catch_warnings():\n",
    "    warnings.simplefilter('ignore')\n",
    "    cubeviz.load_data(f'{data_dir}/{fn}')\n",
    "\n",
    "cubeviz.show()"
   ]
  },
  {
   "cell_type": "code",
   "execution_count": null,
   "id": "c4229824-4284-4ee0-ad02-f6b5f2e79fd7",
   "metadata": {},
   "outputs": [],
   "source": [
    "def collapse_cube(\n",
    "    # supply the helper:\n",
    "    cubeviz,\n",
    "    # choose your collapse operation (sum, mean, max, min):\n",
    "    statistic, \n",
    "    # you can specify the axes you want to collapse:\n",
    "    axis=None, \n",
    "    # or alternatively you can collapse over all spatial/spectral dims:\n",
    "    spectral=None,\n",
    "    spatial=None,\n",
    "    # provide a spatial subset to operate on:\n",
    "    subset=None,\n",
    "    # these keys specify which `Data` to extract from collection:\n",
    "    flux_ext='SCI', \n",
    "    uncert_ext='ERR',\n",
    "    # add data? make data visible?\n",
    "    add_data=True,\n",
    "    show_in_viewer=True,\n",
    "):\n",
    "    \"\"\"\n",
    "    Currently implemented without spatial subset masking, \n",
    "    so `nddata.mask` will be None for now. We can generalize this function\n",
    "    for spatial subset masks by swapping `Data.get_object` for \n",
    "    `Data.get_subset_object`.\n",
    "    \"\"\"\n",
    "    supported_statistics = ['sum', 'mean', 'min', 'max']\n",
    "    \n",
    "    if statistic.lower() not in supported_statistics:\n",
    "        raise ValueError(f\"Collapse statistic '{statistic}' not supported\")\n",
    "    \n",
    "    # find index within data collection which correspond to the\n",
    "    # flux cube with an extension like \"[SCI]\"\n",
    "    [dc_flux_index] = [\n",
    "        i for i, d in enumerate(cubeviz.app.data_collection) \n",
    "        if d.label.endswith(f\"[{flux_ext}]\")\n",
    "    ]\n",
    "    # similarly, find index for an extension like \"[ERR]\"\n",
    "    [dc_uncert_index] = [\n",
    "        i for i, d in enumerate(cubeviz.app.data_collection) \n",
    "        if d.label.endswith(f\"[{uncert_ext}]\")\n",
    "    ]\n",
    "    \n",
    "    # rely on the glue-astronomy translators implemented \n",
    "    # in https://github.com/glue-viz/glue-astronomy/pull/81\n",
    "    # and use the mask defined by `subset` if there is one:\n",
    "    if subset is None:\n",
    "        nddata = cubeviz.app.data_collection[dc_flux_index].get_object(NDDataArray)\n",
    "    else: \n",
    "        nddata = cubeviz.app.data_collection[dc_flux_index].get_subset_object(subset, NDDataArray)\n",
    "\n",
    "    uncertainty = cubeviz.app.data_collection[dc_uncert_index].get_object(StdDevUncertainty)\n",
    "    nddata = NDDataArray(nddata, uncertainty=uncertainty)\n",
    "\n",
    "    all_axes = tuple(i for i in range(nddata.meta['NAXIS']))\n",
    "    dispersion_axis = nddata.meta['DISPAXIS']\n",
    "    spatial_axes = tuple(i for i in all_axes if i != dispersion_axis)\n",
    "    \n",
    "    if axis is None:\n",
    "        if spectral and spatial:\n",
    "            axis = all_axes\n",
    "        elif spectral:\n",
    "            axis = dispersion_axis\n",
    "        elif spatial:\n",
    "            axis = spatial_axes\n",
    "        else: \n",
    "            raise ValueError(\"Must specify either `axis`, `spectral=True`, or `spatial=True`.\")\n",
    "\n",
    "    collapsed = getattr(nddata, statistic)(axis=axis)\n",
    "\n",
    "    if add_data:\n",
    "        if spectral:\n",
    "            # Spectral collapse produces a spatial image. Compute (+show) both the \n",
    "            # collapsed NDDataArray in the flux-viewer and uncert-viewer \n",
    "            flux_label = f'spectral collapse ({statistic})'\n",
    "            uncert_label = f'spectral collapse ({statistic})'\n",
    "            cubeviz.app.add_data(\n",
    "                collapsed, flux_label\n",
    "            )\n",
    "            cubeviz.app.add_data(\n",
    "                collapsed.uncertainty, uncert_label\n",
    "            )\n",
    "            if show_in_viewer: \n",
    "                cubeviz.app.add_data_to_viewer(\n",
    "                    cubeviz._default_flux_viewer_reference_name,\n",
    "                    flux_label\n",
    "                )\n",
    "                cubeviz.app.add_data_to_viewer(\n",
    "                    cubeviz._default_uncert_viewer_reference_name,\n",
    "                    uncert_label\n",
    "                )\n",
    "\n",
    "        elif spatial:\n",
    "            # Spatial collapse produces a spectrum. We need to provide\n",
    "            # a spectral axis since the shape of the resulting NDDataArray\n",
    "            # `collapsed` will be different from the shape of the inherited\n",
    "            # WCS object\n",
    "\n",
    "            # `dispersion_axis` is zero-based index like numpy, but the \n",
    "            # FITS standard for axis labels is one-based.\n",
    "            pxls = np.arange(nddata.meta[f'NAXIS{dispersion_axis+1}'])\n",
    "            spectral_axis = nddata.wcs.spectral_wcs.pixel_to_world(pxls)\n",
    "            \n",
    "            # convert the NDData to Spectrum1D manually, since\n",
    "            # NDData objects are not presently supported by \n",
    "            # specutils (https://github.com/astropy/specutils/pull/1003)\n",
    "            spec = Spectrum1D(\n",
    "                flux=collapsed.data << collapsed.unit, \n",
    "                uncertainty=collapsed.uncertainty, \n",
    "                spectral_axis=spectral_axis, \n",
    "                mask=collapsed.mask, \n",
    "                wcs=collapsed.wcs\n",
    "            )\n",
    "            # hack from Kyle to make any collapsed spectra visible\n",
    "            # in the Data selection menu (top left of spectrum viewer)\n",
    "            spec.meta['Plugin'] = \"\"\n",
    "            \n",
    "            data_label = f\"spatial collapse ({statistic})\"\n",
    "            cubeviz.app.add_data(\n",
    "                spec, data_label\n",
    "            )\n",
    "            cubeviz.app.add_data_to_viewer(\n",
    "                cubeviz._default_spectrum_viewer_reference_name, \n",
    "                data_label, visible=show_in_viewer\n",
    "            )\n",
    "\n",
    "            # reset the x/y axis limits to include all visible data:\n",
    "            spectrum_viewer = cubeviz.app.get_viewer(\n",
    "                cubeviz._default_spectrum_viewer_reference_name\n",
    "            )\n",
    "            spectrum_viewer.state.reset_limits()\n",
    "\n",
    "    return collapsed"
   ]
  },
  {
   "cell_type": "markdown",
   "id": "71b0a7ad-43a6-4764-84ba-85973487b223",
   "metadata": {},
   "source": [
    "You can now collapse a cube along a given set of dimensions like so:"
   ]
  },
  {
   "cell_type": "code",
   "execution_count": null,
   "id": "709cdcf7-d0f0-48ef-b717-757842730b95",
   "metadata": {},
   "outputs": [],
   "source": [
    "nddata = collapse_cube(cubeviz, 'sum', spatial=True)"
   ]
  },
  {
   "cell_type": "markdown",
   "id": "0d3da74d-dc76-4c4c-9bee-119e547d0aa6",
   "metadata": {},
   "source": [
    "The kwarg name I chose here is `spatial=True` for collapses along the spatial dimensions (produces a spectrum), and `spectral=True` for collapses on the spectral dimension (produces an image). Happy to debate if this is a sensible choice.\n",
    "\n",
    "Now let's select a spatial (or spectral!) subset, before running another collapse on the spatial dimensions (within the subset) to a spectrum. "
   ]
  },
  {
   "cell_type": "code",
   "execution_count": null,
   "id": "0c331118-8d32-42d0-b2e7-97877505681e",
   "metadata": {},
   "outputs": [],
   "source": [
    "# add a spatial subset through the API:\n",
    "circ = CirclePixelRegion(center=PixCoord(x=20, y=25), radius=5)\n",
    "cubeviz.load_regions([circ])"
   ]
  },
  {
   "cell_type": "markdown",
   "id": "e528501d-e7e3-435a-a732-598e8e647b02",
   "metadata": {},
   "source": [
    "In this implementation, I haven't yet added logic for simultaneously selecting both spectral and spatial subsets, but that logic will be straightforward to add. \n",
    "\n",
    "Now just specify within which subset you want to collapse:"
   ]
  },
  {
   "cell_type": "code",
   "execution_count": null,
   "id": "551dda29-80a7-4b88-91ae-ce6cb921d5c4",
   "metadata": {},
   "outputs": [],
   "source": [
    "nddata2 = collapse_cube(cubeviz, 'mean', spatial=True, subset='Subset 1')"
   ]
  },
  {
   "cell_type": "markdown",
   "id": "cca2eddb-fb0e-422f-92df-b323a74c35f4",
   "metadata": {},
   "source": [
    "And look, we have uncertainties:"
   ]
  },
  {
   "cell_type": "code",
   "execution_count": null,
   "id": "e0d6da9f-9adf-4986-81c4-e497e5c623ee",
   "metadata": {},
   "outputs": [],
   "source": [
    "nddata2.uncertainty"
   ]
  },
  {
   "cell_type": "code",
   "execution_count": null,
   "id": "7d6ab54a-43a5-42c3-929b-6882aec9f316",
   "metadata": {},
   "outputs": [],
   "source": []
  }
 ],
 "metadata": {
  "kernelspec": {
   "display_name": "Python 3 (ipykernel)",
   "language": "python",
   "name": "python3"
  },
  "language_info": {
   "codemirror_mode": {
    "name": "ipython",
    "version": 3
   },
   "file_extension": ".py",
   "mimetype": "text/x-python",
   "name": "python",
   "nbconvert_exporter": "python",
   "pygments_lexer": "ipython3",
   "version": "3.9.13"
  }
 },
 "nbformat": 4,
 "nbformat_minor": 5
}
