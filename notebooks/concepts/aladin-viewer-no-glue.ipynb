{
 "cells": [
  {
   "cell_type": "code",
   "execution_count": null,
   "id": "d3281e9c-7e45-41b5-9f89-4d60fc4d6e01",
   "metadata": {},
   "outputs": [],
   "source": [
    "from jdaviz import Imviz, enable_hot_reloading\n",
    "\n",
    "enable_hot_reloading()\n",
    "\n",
    "viz = Imviz()\n",
    "\n",
    "viz.load_data('mast:JWST/product/jw02727-o002_t062_nircam_clear-f090w_i2d.fits', cache=True)\n",
    "\n",
    "viz.show('sidecar:split-bottom')"
   ]
  },
  {
   "cell_type": "markdown",
   "id": "fcaf053f-8b02-4ebd-a529-e9ff664a071c",
   "metadata": {},
   "source": [
    "This creates a jdaviz-compatible `Viewer` that can appear alongside the jdaviz image viewer: "
   ]
  },
  {
   "cell_type": "code",
   "execution_count": null,
   "id": "f948f4fd-f956-43f3-bca1-a8aedd3d58d6",
   "metadata": {},
   "outputs": [],
   "source": [
    "from glue_jupyter.view import IPyWidgetView\n",
    "\n",
    "class MastAladinView(IPyWidgetView):\n",
    "    inherit_tools = False\n",
    "    _toolbar_cls = None\n",
    "    _figure_widget = None\n",
    "    _deprecated_data_menu = None\n",
    "    data_menu = None\n",
    "    _layer_artist_container = []\n",
    "    tools = []\n",
    "    \n",
    "    @property\n",
    "    def figure_widget(self):\n",
    "        return self._figure_widget\n",
    "\n",
    "    @figure_widget.setter\n",
    "    def figure_widget(self, widget):\n",
    "        self._figure_widget = widget\n",
    "\n",
    "    def initialize_toolbar(self):\n",
    "        pass\n",
    "\n",
    "    def _deprecated_data_menu(self):\n",
    "        pass\n",
    "\n",
    "\n",
    "demo_view = MastAladinView(viz.app.session)"
   ]
  },
  {
   "cell_type": "markdown",
   "id": "c28631b0-9123-493e-b031-72572222548b",
   "metadata": {},
   "source": [
    "Here we initialize the MastAladin widget, and we attach style options to it directly. this allows us to see the outermost div with a solid red border.\n",
    "\n",
    "**The cell below will fail if you run it before the imviz output is visible.**"
   ]
  },
  {
   "cell_type": "code",
   "execution_count": null,
   "id": "62aee6d6-782b-49bc-bf3d-b2373a5af73b",
   "metadata": {},
   "outputs": [],
   "source": [
    "from mast_aladin_lite import MastAladin\n",
    "from ipywidgets import VBox, Layout\n",
    "\n",
    "# here we explicitly ask to create the mast aladin widget\n",
    "# with the same height as the already-loaded image viewer\n",
    "# in imviz. we add the height of the toolbar (seen in the\n",
    "# image viewer but not in the aladin viewer) to the height \n",
    "# of the image-viewer's image for the expected height of the \n",
    "# aladin viewer:\n",
    "\n",
    "# toolbar height is hard coded in jdaviz here:\n",
    "# https://github.com/spacetelescope/jdaviz/blob/a3588cf43f3e68fde86688088f4578004be4aa39/jdaviz/main_styles.vue#L193\n",
    "toolbar_height = 42  \n",
    "\n",
    "height = viz.default_viewer._obj.figure_widget.marks[0].shape[0] + toolbar_height\n",
    "mast_aladin = MastAladin(height=height)\n",
    "\n",
    "# mast_aladin.layout = Layout(height='inherit', border=\"3px solid red\")\n",
    "\n",
    "demo_view.figure_widget = mast_aladin"
   ]
  },
  {
   "cell_type": "code",
   "execution_count": null,
   "id": "5f12373e-1a7c-499b-8171-7ae5cd198f92",
   "metadata": {},
   "outputs": [],
   "source": [
    "height"
   ]
  },
  {
   "cell_type": "markdown",
   "id": "d0bb3e0e-3c04-4564-8050-bd51c5afab31",
   "metadata": {},
   "source": [
    "Now let's put the viewer in jdaviz:"
   ]
  },
  {
   "cell_type": "code",
   "execution_count": null,
   "id": "7a21502a-ddf6-4a70-9a00-44cfcf10e074",
   "metadata": {},
   "outputs": [],
   "source": [
    "import uuid\n",
    "\n",
    "name = 'aladin-lite'\n",
    "\n",
    "# add viewer to the viewer store:\n",
    "viz.app._viewer_store[name] = demo_view\n",
    "\n",
    "# create a viewer item that refers to the MastAladin widget:\n",
    "viewer_item = {\n",
    "    'id': name,\n",
    "    'name': name,    \n",
    "    'widget': \"IPY_MODEL_\" + demo_view.figure_widget.model_id,\n",
    "    'reference': None,\n",
    "}\n",
    "\n",
    "\n",
    "# create a stack item, which creates the outer \n",
    "stack_item = {\n",
    "    'id': str(uuid.uuid4()),\n",
    "    'container': 'gl-stack',\n",
    "    'children': [],\n",
    "    'viewers': [viewer_item]\n",
    "}\n",
    "\n",
    "\n",
    "viz.app.state.stack_items.append(stack_item)"
   ]
  },
  {
   "cell_type": "code",
   "execution_count": null,
   "id": "cac62c88-2366-49b3-a2ad-ca86858c6837",
   "metadata": {},
   "outputs": [],
   "source": []
  }
 ],
 "metadata": {
  "kernelspec": {
   "display_name": "Python 3 (ipykernel)",
   "language": "python",
   "name": "python3"
  },
  "language_info": {
   "codemirror_mode": {
    "name": "ipython",
    "version": 3
   },
   "file_extension": ".py",
   "mimetype": "text/x-python",
   "name": "python",
   "nbconvert_exporter": "python",
   "pygments_lexer": "ipython3",
   "version": "3.11.11"
  }
 },
 "nbformat": 4,
 "nbformat_minor": 5
}
