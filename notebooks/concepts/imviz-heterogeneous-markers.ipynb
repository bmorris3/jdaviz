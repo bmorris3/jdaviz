{
 "cells": [
  {
   "cell_type": "code",
   "execution_count": null,
   "id": "12a4b813-9768-4d12-b081-36336acddb01",
   "metadata": {
    "tags": []
   },
   "outputs": [],
   "source": [
    "from jdaviz import Imviz\n",
    "from glue.config import settings\n",
    "import numpy as np\n",
    "from jdaviz.core.marks import CircleMark"
   ]
  },
  {
   "cell_type": "markdown",
   "id": "2e9cfb0c-3d6a-4f30-b355-a070af290f1a",
   "metadata": {},
   "source": [
    "Download the data"
   ]
  },
  {
   "cell_type": "code",
   "execution_count": null,
   "id": "f49a3676-1aa2-4f1c-8731-12b81289fb5e",
   "metadata": {},
   "outputs": [],
   "source": [
    "from astroquery.mast import Observations\n",
    "\n",
    "uris = [\n",
    "    'mast:JWST/product/jw02727-o002_t062_nircam_clear-f277w_i2d.fits',\n",
    "    ]\n",
    "\n",
    "for uri in uris:\n",
    "    path = uri.split('/')[-1]\n",
    "    Observations.download_file(uri, local_path=path)"
   ]
  },
  {
   "cell_type": "markdown",
   "id": "521f182a-687e-487e-84dc-94ba09a30957",
   "metadata": {},
   "source": [
    "Open the data in Imviz:"
   ]
  },
  {
   "cell_type": "code",
   "execution_count": null,
   "id": "b6021a70-8789-4383-b3d4-2aaf8f8e2c5e",
   "metadata": {
    "tags": []
   },
   "outputs": [],
   "source": [
    "imviz = Imviz()\n",
    "\n",
    "imviz.load_data(path)\n",
    "\n",
    "imviz.show()\n",
    "\n",
    "markers_plugin = imviz.plugins['Markers']\n",
    "markers_plugin._obj.plugin_open = True\n",
    "markers_plugin.open_in_tray()"
   ]
  },
  {
   "cell_type": "markdown",
   "id": "533ae4c0-cb09-43aa-9016-c0926f24375c",
   "metadata": {},
   "source": [
    "Hover over the image and press the \"m\" key on your keyboard to make a few markers. Then do:"
   ]
  },
  {
   "cell_type": "code",
   "execution_count": null,
   "id": "1bdb75bc-0529-4990-9441-b54318debb9a",
   "metadata": {
    "tags": []
   },
   "outputs": [],
   "source": [
    "viewer = imviz.app.get_viewer('imviz-0')\n",
    "\n",
    "m = list(viewer.figure.marks)"
   ]
  },
  {
   "cell_type": "markdown",
   "id": "87e771f4-84c6-4043-ac2f-315492dac4c1",
   "metadata": {},
   "source": [
    "This will reset the marker sizes, colors, and eccentricities:"
   ]
  },
  {
   "cell_type": "code",
   "execution_count": null,
   "id": "9b30015b-6bee-4cec-a126-82dd5debcc4b",
   "metadata": {
    "tags": []
   },
   "outputs": [],
   "source": [
    "glue_subset_colors = settings._defaults['SUBSET_COLORS']\n",
    "new_marks = []\n",
    "\n",
    "for i, mark in enumerate(m):\n",
    "    if hasattr(mark, 'marker'):\n",
    "        mark.set_trait('marker', 'ellipse')\n",
    "        mark.set_trait('default_size', 2000)\n",
    "        mark.set_trait('colors', glue_subset_colors)\n",
    "        mark.set_trait('fill', True)\n",
    "        mark.set_trait('stroke_width', 0)\n",
    "        mark.set_trait('opacities', [0.3])\n",
    "        rotation = np.random.uniform(0, 180, size=len(mark.x))\n",
    "        mark.set_trait('rotation', rotation)\n",
    "        \n",
    "        size = np.random.uniform(1, 1e5, size=len(mark.x))\n",
    "        mark.set_trait('size', size)\n",
    "\n",
    "        skew = np.random.uniform(0, 1, size=len(mark.x))\n",
    "        mark.set_trait('skew', skew)\n",
    "        \n",
    "        new_marks.append(mark)\n",
    "        print(\"Marks adjusted:\", len(mark.x))\n",
    "\n",
    "    else: \n",
    "        new_marks.append(mark)\n",
    "\n",
    "viewer.figure.marks = new_marks"
   ]
  },
  {
   "cell_type": "markdown",
   "id": "0b150082-845a-45ce-b063-4f7509476f38",
   "metadata": {},
   "source": [
    "You need to do something like this to reset the viewer size and marker size self-consistently:"
   ]
  },
  {
   "cell_type": "code",
   "execution_count": null,
   "id": "7ef3e8f6-1e35-4b16-9685-b2b503c78c3a",
   "metadata": {
    "tags": []
   },
   "outputs": [],
   "source": [
    "zoom_scale = 5\n",
    "\n",
    "viewer = imviz.app.get_viewer('imviz-0')\n",
    "m = list(viewer.figure.marks)\n",
    "\n",
    "new_marks = []\n",
    "\n",
    "for i, mark in enumerate(m):\n",
    "    if isinstance(mark, CircleMark):\n",
    "        mark.set_trait('default_size', int(zoom_scale * mark.default_size))\n",
    "        mark.set_trait('colors', glue_subset_colors)\n",
    "        mark.set_trait('fill', True)\n",
    "        mark.set_trait('stroke_width', 0)\n",
    "        mark.set_trait('opacities', [0.7])\n",
    "        new_marks.append(mark)\n",
    "    else: \n",
    "        new_marks.append(mark)\n",
    "\n",
    "viewer.figure.marks = new_marks\n",
    "\n",
    "viewer.zoom_level = int(viewer.zoom_level * zoom_scale)"
   ]
  },
  {
   "cell_type": "markdown",
   "id": "c34ad89d-d915-468a-911f-1ec0138a3e9a",
   "metadata": {},
   "source": [
    "To make the pan/zoom features work in Imviz natively, we'll need to add callbacks that call what's in the cell above."
   ]
  },
  {
   "cell_type": "code",
   "execution_count": null,
   "id": "0122db8a-5974-4258-b69a-aec2c2ef933c",
   "metadata": {},
   "outputs": [],
   "source": []
  }
 ],
 "metadata": {
  "kernelspec": {
   "display_name": "Python 3 (ipykernel)",
   "language": "python",
   "name": "python3"
  },
  "language_info": {
   "codemirror_mode": {
    "name": "ipython",
    "version": 3
   },
   "file_extension": ".py",
   "mimetype": "text/x-python",
   "name": "python",
   "nbconvert_exporter": "python",
   "pygments_lexer": "ipython3",
   "version": "3.11.3"
  }
 },
 "nbformat": 4,
 "nbformat_minor": 5
}
